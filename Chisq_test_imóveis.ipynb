{
  "cells": [
    {
      "cell_type": "markdown",
      "metadata": {
        "id": "BnMhYk_VWzzY"
      },
      "source": [
        "# Teste Qui.Quadrado na relação de Imovéis e Status\n",
        "\n",
        "O objetivo deste projeto rápido é verificar se há uma relação entre os tipos de imóveis e seus respectivos status, tratando de variáveis categóricas, utilizando o teste Qui.Quadrado para alcançar o objetivo da pergunta de Negócio.\n",
        "\n",
        "Espera-se responder as seguintes perguntas:\n",
        "\n",
        "1. Há relação estatística entre o tipo de imóvel e o status?\n",
        "2. Removendo o tipo \"Apartamento\", há relação estatísticas entre o tipo de Imóvel e o status?"
      ]
    },
    {
      "cell_type": "code",
      "execution_count": 1,
      "metadata": {
        "id": "ejR9LyI6Tage",
        "vscode": {
          "languageId": "r"
        }
      },
      "outputs": [],
      "source": [
        "# Configurações de saídas\n",
        "options(scipen = 9999, digits = 2)\n",
        "options(repos = 'http://cran.rstudio.com/')\n",
        "options(repr.width = 20, repr.height = 10)"
      ]
    },
    {
      "cell_type": "code",
      "execution_count": 2,
      "metadata": {
        "id": "auQ1De3kT0D3",
        "vscode": {
          "languageId": "r"
        }
      },
      "outputs": [],
      "source": [
        "# Carregando o dataset\n",
        "df <- read.csv('/content/dados.csv')"
      ]
    },
    {
      "cell_type": "code",
      "execution_count": 3,
      "metadata": {
        "colab": {
          "base_uri": "https://localhost:8080/",
          "height": 286
        },
        "id": "572Ww0WIT0GQ",
        "outputId": "834be1dc-d237-4b4f-f1b6-ecc40727675f",
        "vscode": {
          "languageId": "r"
        }
      },
      "outputs": [
        {
          "data": {
            "text/html": [
              "<table class=\"dataframe\">\n",
              "<caption>A data.frame: 6 × 7</caption>\n",
              "<thead>\n",
              "\t<tr><th></th><th scope=col>Preco</th><th scope=col>Tamanho</th><th scope=col>CEP</th><th scope=col>Tipo_Imovel</th><th scope=col>Status_Imovel</th><th scope=col>Status_Aluguel</th><th scope=col>Cidade</th></tr>\n",
              "\t<tr><th></th><th scope=col>&lt;int&gt;</th><th scope=col>&lt;int&gt;</th><th scope=col>&lt;chr&gt;</th><th scope=col>&lt;chr&gt;</th><th scope=col>&lt;chr&gt;</th><th scope=col>&lt;chr&gt;</th><th scope=col>&lt;chr&gt;</th></tr>\n",
              "</thead>\n",
              "<tbody>\n",
              "\t<tr><th scope=row>1</th><td>899950</td><td>37505</td><td>NW3 1RX </td><td>Apartamento     </td><td>Antigo</td><td>Alugado</td><td>Natal    </td></tr>\n",
              "\t<tr><th scope=row>2</th><td>330000</td><td>37475</td><td>W3 6DR  </td><td>Casa com Quintal</td><td>Antigo</td><td>Vazio  </td><td>Natal    </td></tr>\n",
              "\t<tr><th scope=row>3</th><td>230000</td><td>37270</td><td>SW6 2RX </td><td>Apartamento     </td><td>Antigo</td><td>Alugado</td><td>Natal    </td></tr>\n",
              "\t<tr><th scope=row>4</th><td>178000</td><td>37596</td><td>CR0 9LQ </td><td>Cobertura       </td><td>Antigo</td><td>Vazio  </td><td>Fortaleza</td></tr>\n",
              "\t<tr><th scope=row>5</th><td>180000</td><td>37396</td><td>SE27 9AW</td><td>Casa com Quintal</td><td>Antigo</td><td>Vazio  </td><td>Natal    </td></tr>\n",
              "\t<tr><th scope=row>6</th><td>130000</td><td>37293</td><td>SW15 1HJ</td><td>Apartamento     </td><td>Antigo</td><td>Alugado</td><td>Natal    </td></tr>\n",
              "</tbody>\n",
              "</table>\n"
            ],
            "text/latex": [
              "A data.frame: 6 × 7\n",
              "\\begin{tabular}{r|lllllll}\n",
              "  & Preco & Tamanho & CEP & Tipo\\_Imovel & Status\\_Imovel & Status\\_Aluguel & Cidade\\\\\n",
              "  & <int> & <int> & <chr> & <chr> & <chr> & <chr> & <chr>\\\\\n",
              "\\hline\n",
              "\t1 & 899950 & 37505 & NW3 1RX  & Apartamento      & Antigo & Alugado & Natal    \\\\\n",
              "\t2 & 330000 & 37475 & W3 6DR   & Casa com Quintal & Antigo & Vazio   & Natal    \\\\\n",
              "\t3 & 230000 & 37270 & SW6 2RX  & Apartamento      & Antigo & Alugado & Natal    \\\\\n",
              "\t4 & 178000 & 37596 & CR0 9LQ  & Cobertura        & Antigo & Vazio   & Fortaleza\\\\\n",
              "\t5 & 180000 & 37396 & SE27 9AW & Casa com Quintal & Antigo & Vazio   & Natal    \\\\\n",
              "\t6 & 130000 & 37293 & SW15 1HJ & Apartamento      & Antigo & Alugado & Natal    \\\\\n",
              "\\end{tabular}\n"
            ],
            "text/markdown": [
              "\n",
              "A data.frame: 6 × 7\n",
              "\n",
              "| <!--/--> | Preco &lt;int&gt; | Tamanho &lt;int&gt; | CEP &lt;chr&gt; | Tipo_Imovel &lt;chr&gt; | Status_Imovel &lt;chr&gt; | Status_Aluguel &lt;chr&gt; | Cidade &lt;chr&gt; |\n",
              "|---|---|---|---|---|---|---|---|\n",
              "| 1 | 899950 | 37505 | NW3 1RX  | Apartamento      | Antigo | Alugado | Natal     |\n",
              "| 2 | 330000 | 37475 | W3 6DR   | Casa com Quintal | Antigo | Vazio   | Natal     |\n",
              "| 3 | 230000 | 37270 | SW6 2RX  | Apartamento      | Antigo | Alugado | Natal     |\n",
              "| 4 | 178000 | 37596 | CR0 9LQ  | Cobertura        | Antigo | Vazio   | Fortaleza |\n",
              "| 5 | 180000 | 37396 | SE27 9AW | Casa com Quintal | Antigo | Vazio   | Natal     |\n",
              "| 6 | 130000 | 37293 | SW15 1HJ | Apartamento      | Antigo | Alugado | Natal     |\n",
              "\n"
            ],
            "text/plain": [
              "  Preco  Tamanho CEP      Tipo_Imovel      Status_Imovel Status_Aluguel\n",
              "1 899950 37505   NW3 1RX  Apartamento      Antigo        Alugado       \n",
              "2 330000 37475   W3 6DR   Casa com Quintal Antigo        Vazio         \n",
              "3 230000 37270   SW6 2RX  Apartamento      Antigo        Alugado       \n",
              "4 178000 37596   CR0 9LQ  Cobertura        Antigo        Vazio         \n",
              "5 180000 37396   SE27 9AW Casa com Quintal Antigo        Vazio         \n",
              "6 130000 37293   SW15 1HJ Apartamento      Antigo        Alugado       \n",
              "  Cidade   \n",
              "1 Natal    \n",
              "2 Natal    \n",
              "3 Natal    \n",
              "4 Fortaleza\n",
              "5 Natal    \n",
              "6 Natal    "
            ]
          },
          "metadata": {},
          "output_type": "display_data"
        }
      ],
      "source": [
        "# Visualizando as primeiras linhah\n",
        "head(df)"
      ]
    },
    {
      "cell_type": "code",
      "execution_count": 4,
      "metadata": {
        "colab": {
          "base_uri": "https://localhost:8080/"
        },
        "id": "g-NJOj2KUS_g",
        "outputId": "9bc16b5b-d7a9-49e5-ea07-198d25d78523",
        "vscode": {
          "languageId": "r"
        }
      },
      "outputs": [
        {
          "name": "stdout",
          "output_type": "stream",
          "text": [
            "'data.frame':\t7700 obs. of  7 variables:\n",
            " $ Preco         : int  899950 330000 230000 178000 180000 130000 299950 85000 280000 160000 ...\n",
            " $ Tamanho       : int  37505 37475 37270 37596 37396 37293 37575 37329 37476 37474 ...\n",
            " $ CEP           : chr  \"NW3 1RX\" \"W3 6DR\" \"SW6 2RX\" \"CR0 9LQ\" ...\n",
            " $ Tipo_Imovel   : chr  \"Apartamento\" \"Casa com Quintal\" \"Apartamento\" \"Cobertura\" ...\n",
            " $ Status_Imovel : chr  \"Antigo\" \"Antigo\" \"Antigo\" \"Antigo\" ...\n",
            " $ Status_Aluguel: chr  \"Alugado\" \"Vazio\" \"Alugado\" \"Vazio\" ...\n",
            " $ Cidade        : chr  \"Natal\" \"Natal\" \"Natal\" \"Fortaleza\" ...\n"
          ]
        }
      ],
      "source": [
        "# Visualizando os tipos de dados\n",
        "str(df)"
      ]
    },
    {
      "cell_type": "code",
      "execution_count": 5,
      "metadata": {
        "colab": {
          "base_uri": "https://localhost:8080/",
          "height": 34
        },
        "id": "rzWUy4rJUTB4",
        "outputId": "2f720afe-41b6-4644-99f2-e9966e6e79e5",
        "vscode": {
          "languageId": "r"
        }
      },
      "outputs": [
        {
          "data": {
            "text/html": [
              "0"
            ],
            "text/latex": [
              "0"
            ],
            "text/markdown": [
              "0"
            ],
            "text/plain": [
              "[1] 0"
            ]
          },
          "metadata": {},
          "output_type": "display_data"
        }
      ],
      "source": [
        "# Verificando os valores ausentes\n",
        "sum(is.na(df))"
      ]
    },
    {
      "cell_type": "code",
      "execution_count": 11,
      "metadata": {
        "colab": {
          "base_uri": "https://localhost:8080/",
          "height": 145
        },
        "id": "tDGKABfJUe5O",
        "outputId": "030b13d1-df68-4416-ee90-62f6edeba5a0",
        "vscode": {
          "languageId": "r"
        }
      },
      "outputs": [
        {
          "data": {
            "text/plain": [
              "                  y\n",
              "x                  Antigo Novo\n",
              "  Apartamento        2901  990\n",
              "  Casa com Quintal    357    7\n",
              "  Casa sem Quintal    961   19\n",
              "  Cobertura          1752   43\n",
              "  Outro               656   14"
            ]
          },
          "metadata": {},
          "output_type": "display_data"
        }
      ],
      "source": [
        "# Separando as variáveis de interesse\n",
        "x <- df$Tipo_Imovel\n",
        "y <- df$Status_Imovel\n",
        "table(x,y)"
      ]
    },
    {
      "cell_type": "markdown",
      "metadata": {
        "id": "6by3jeCgVI1P"
      },
      "source": [
        "### Teste Qui.quad\n",
        "\n",
        "Usado para comparar duas variáveis categóricas, se elas estão relacionadas e se impactam no dataset. Ele compara proporções, isto é, possíveis divergências entre as frequências observadas e esperadas para um certo evento.\n",
        "\n",
        "- H0: As frequências observadas não são diferentes das frequências esperadas. Não existe diferença entre as frequências (contagens) dos grupos.Portanto, não há associação entre os grupos\n",
        "- H1:  As  frequências  observadas  são  diferentes  das  frequências esperadas,  portanto  existe  diferença  entre  as  frequências.Portanto,  há  associação  entre os grupos.\n",
        "- 5% Nível de significância"
      ]
    },
    {
      "cell_type": "code",
      "execution_count": 19,
      "metadata": {
        "colab": {
          "base_uri": "https://localhost:8080/",
          "height": 108
        },
        "id": "o4_GhUrtUTEf",
        "outputId": "c8d6483f-f82f-4a1d-8571-65c9ea466e88",
        "vscode": {
          "languageId": "r"
        }
      },
      "outputs": [
        {
          "data": {
            "text/plain": [
              "\n",
              "\tPearson's Chi-squared test\n",
              "\n",
              "data:  table(x, y)\n",
              "X-squared = 869, df = 4, p-value <0.0000000000000002\n"
            ]
          },
          "metadata": {},
          "output_type": "display_data"
        }
      ],
      "source": [
        "# Realizando o teste\n",
        "chisq.test(table(x,y))"
      ]
    },
    {
      "cell_type": "markdown",
      "metadata": {
        "id": "vbzEHxxYV17Q"
      },
      "source": [
        "Como p-value < 0.05, então rejeita-se H0 e aceita H1, logo, há associação entre os grupos."
      ]
    },
    {
      "cell_type": "code",
      "execution_count": 16,
      "metadata": {
        "colab": {
          "base_uri": "https://localhost:8080/",
          "height": 72
        },
        "id": "JhEYrnkNUTG7",
        "outputId": "d3766b1c-81b5-403c-9cf9-e70c18a3224b",
        "vscode": {
          "languageId": "r"
        }
      },
      "outputs": [
        {
          "data": {
            "text/plain": [
              "\n",
              "Casa com Quintal Casa sem Quintal        Cobertura            Outro \n",
              "             364              980             1795              670 "
            ]
          },
          "metadata": {},
          "output_type": "display_data"
        }
      ],
      "source": [
        "# Removendo o tipo de imóvel \"apartamento\"\n",
        "df1 <- subset(df, Tipo_Imovel != \"Apartamento\")\n",
        "x1 <- df1$Tipo_Imovel\n",
        "y1 <- df1$Status_Imovel\n",
        "table(df1$Tipo_Imovel)"
      ]
    },
    {
      "cell_type": "code",
      "execution_count": 18,
      "metadata": {
        "colab": {
          "base_uri": "https://localhost:8080/",
          "height": 108
        },
        "id": "JpUsCF9PV93Q",
        "outputId": "878953f6-82d6-4d52-be92-bf97fd668838",
        "vscode": {
          "languageId": "r"
        }
      },
      "outputs": [
        {
          "data": {
            "text/plain": [
              "\n",
              "\tPearson's Chi-squared test\n",
              "\n",
              "data:  table(x1, y1)\n",
              "X-squared = 0.8, df = 3, p-value = 0.9\n"
            ]
          },
          "metadata": {},
          "output_type": "display_data"
        }
      ],
      "source": [
        "# Realizando novamente o teste\n",
        "chisq.test(table(x1,y1))"
      ]
    },
    {
      "cell_type": "markdown",
      "metadata": {
        "id": "8VfsAPZGWdtP"
      },
      "source": [
        "Portanto, nota-se que o tipo \"Apartamento\" influência na relação entre os grupos. Neste teste p-value > 0.05, logo, não temos evidências estatísticas para rejeitar H0. Portanto, não há associação entre os grupos, quando removemos o tipo \"Apartamento\"."
      ]
    }
  ],
  "metadata": {
    "colab": {
      "provenance": []
    },
    "kernelspec": {
      "display_name": "R",
      "name": "ir"
    },
    "language_info": {
      "name": "R"
    }
  },
  "nbformat": 4,
  "nbformat_minor": 0
}
